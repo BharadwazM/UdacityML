{
 "cells": [
  {
   "cell_type": "markdown",
   "metadata": {},
   "source": [
    "Import the dependencies"
   ]
  },
  {
   "cell_type": "code",
   "execution_count": 1,
   "metadata": {
    "collapsed": false
   },
   "outputs": [
    {
     "name": "stderr",
     "output_type": "stream",
     "text": [
      "/Users/bharadwazmahankali/anaconda2/lib/python2.7/site-packages/sklearn/cross_validation.py:41: DeprecationWarning: This module was deprecated in version 0.18 in favor of the model_selection module into which all the refactored classes and functions are moved. Also note that the interface of the new CV iterators are different from that of this module. This module will be removed in 0.20.\n",
      "  \"This module will be removed in 0.20.\", DeprecationWarning)\n",
      "/Users/bharadwazmahankali/anaconda2/lib/python2.7/site-packages/sklearn/grid_search.py:42: DeprecationWarning: This module was deprecated in version 0.18 in favor of the model_selection module into which all the refactored classes and functions are moved. This module will be removed in 0.20.\n",
      "  DeprecationWarning)\n",
      "/Users/bharadwazmahankali/anaconda2/lib/python2.7/site-packages/sklearn/learning_curve.py:22: DeprecationWarning: This module was deprecated in version 0.18 in favor of the model_selection module into which all the functions are moved. This module will be removed in 0.20\n",
      "  DeprecationWarning)\n"
     ]
    }
   ],
   "source": [
    "import numpy as np\n",
    "import pandas as pd\n",
    "import matplotlib.pyplot as plt\n",
    "import xgboost as xgb\n",
    "import lightgbm as lgb\n",
    "\n",
    "from sklearn import *\n",
    "from IPython.display import display"
   ]
  },
  {
   "cell_type": "markdown",
   "metadata": {},
   "source": [
    "Load the files into pandas dataframe"
   ]
  },
  {
   "cell_type": "code",
   "execution_count": 2,
   "metadata": {
    "collapsed": true
   },
   "outputs": [],
   "source": [
    "dtype = {\n",
    "    'id': str,\n",
    "    'teacher_id': str,\n",
    "    'teacher_prefix': str,\n",
    "    'school_state': str,\n",
    "    'project_submitted_datetime': str,\n",
    "    'project_grade_category': str,\n",
    "    'project_subject_categories': str,\n",
    "    'project_subject_subcategories': str,\n",
    "    'project_title': str,\n",
    "    'project_essay_1': str,\n",
    "    'project_essay_2': str,\n",
    "    'project_essay_3': str,\n",
    "    'project_essay_4': str,\n",
    "    'project_resource_summary': str,\n",
    "    'teacher_number_of_previously_posted_projects': int,\n",
    "    'project_is_approved': np.uint8\n",
    "}\n",
    "\n",
    "input_dir = 'data/'\n",
    "train = pd.read_csv(input_dir + 'train.csv', dtype=dtype)\n",
    "test = pd.read_csv(input_dir + 'test.csv', dtype=dtype)\n",
    "resources = pd.read_csv(input_dir + 'resources.csv', dtype=dtype)\n"
   ]
  },
  {
   "cell_type": "markdown",
   "metadata": {},
   "source": [
    "## Data Exploration:"
   ]
  },
  {
   "cell_type": "code",
   "execution_count": 3,
   "metadata": {
    "collapsed": false
   },
   "outputs": [
    {
     "data": {
      "text/html": [
       "<div>\n",
       "<table border=\"1\" class=\"dataframe\">\n",
       "  <thead>\n",
       "    <tr style=\"text-align: right;\">\n",
       "      <th></th>\n",
       "      <th>id</th>\n",
       "      <th>teacher_id</th>\n",
       "      <th>teacher_prefix</th>\n",
       "      <th>school_state</th>\n",
       "      <th>project_submitted_datetime</th>\n",
       "      <th>project_grade_category</th>\n",
       "      <th>project_subject_categories</th>\n",
       "      <th>project_subject_subcategories</th>\n",
       "      <th>project_title</th>\n",
       "      <th>project_essay_1</th>\n",
       "      <th>project_essay_2</th>\n",
       "      <th>project_essay_3</th>\n",
       "      <th>project_essay_4</th>\n",
       "      <th>project_resource_summary</th>\n",
       "      <th>teacher_number_of_previously_posted_projects</th>\n",
       "      <th>project_is_approved</th>\n",
       "    </tr>\n",
       "  </thead>\n",
       "  <tbody>\n",
       "    <tr>\n",
       "      <th>0</th>\n",
       "      <td>p036502</td>\n",
       "      <td>484aaf11257089a66cfedc9461c6bd0a</td>\n",
       "      <td>Ms.</td>\n",
       "      <td>NV</td>\n",
       "      <td>2016-11-18 14:45:59</td>\n",
       "      <td>Grades PreK-2</td>\n",
       "      <td>Literacy &amp; Language</td>\n",
       "      <td>Literacy</td>\n",
       "      <td>Super Sight Word Centers</td>\n",
       "      <td>Most of my kindergarten students come from low...</td>\n",
       "      <td>I currently have a differentiated sight word c...</td>\n",
       "      <td>NaN</td>\n",
       "      <td>NaN</td>\n",
       "      <td>My students need 6 Ipod Nano's to create and d...</td>\n",
       "      <td>26</td>\n",
       "      <td>1</td>\n",
       "    </tr>\n",
       "    <tr>\n",
       "      <th>1</th>\n",
       "      <td>p039565</td>\n",
       "      <td>df72a3ba8089423fa8a94be88060f6ed</td>\n",
       "      <td>Mrs.</td>\n",
       "      <td>GA</td>\n",
       "      <td>2017-04-26 15:57:28</td>\n",
       "      <td>Grades 3-5</td>\n",
       "      <td>Music &amp; The Arts, Health &amp; Sports</td>\n",
       "      <td>Performing Arts, Team Sports</td>\n",
       "      <td>Keep Calm and Dance On</td>\n",
       "      <td>Our elementary school is a culturally rich sch...</td>\n",
       "      <td>We strive to provide our diverse population of...</td>\n",
       "      <td>NaN</td>\n",
       "      <td>NaN</td>\n",
       "      <td>My students need matching shirts to wear for d...</td>\n",
       "      <td>1</td>\n",
       "      <td>0</td>\n",
       "    </tr>\n",
       "    <tr>\n",
       "      <th>2</th>\n",
       "      <td>p233823</td>\n",
       "      <td>a9b876a9252e08a55e3d894150f75ba3</td>\n",
       "      <td>Ms.</td>\n",
       "      <td>UT</td>\n",
       "      <td>2017-01-01 22:57:44</td>\n",
       "      <td>Grades 3-5</td>\n",
       "      <td>Math &amp; Science, Literacy &amp; Language</td>\n",
       "      <td>Applied Sciences, Literature &amp; Writing</td>\n",
       "      <td>Lets 3Doodle to Learn</td>\n",
       "      <td>Hello;\\r\\nMy name is Mrs. Brotherton. I teach ...</td>\n",
       "      <td>We are looking to add some 3Doodler to our cla...</td>\n",
       "      <td>NaN</td>\n",
       "      <td>NaN</td>\n",
       "      <td>My students need the 3doodler. We are an SEM s...</td>\n",
       "      <td>5</td>\n",
       "      <td>1</td>\n",
       "    </tr>\n",
       "    <tr>\n",
       "      <th>3</th>\n",
       "      <td>p185307</td>\n",
       "      <td>525fdbb6ec7f538a48beebaa0a51b24f</td>\n",
       "      <td>Mr.</td>\n",
       "      <td>NC</td>\n",
       "      <td>2016-08-12 15:42:11</td>\n",
       "      <td>Grades 3-5</td>\n",
       "      <td>Health &amp; Sports</td>\n",
       "      <td>Health &amp; Wellness</td>\n",
       "      <td>\\\"Kid Inspired\\\" Equipment to Increase Activit...</td>\n",
       "      <td>My students are the greatest students but are ...</td>\n",
       "      <td>The student's project which is totally \\\"kid-i...</td>\n",
       "      <td>NaN</td>\n",
       "      <td>NaN</td>\n",
       "      <td>My students need balls and other activity equi...</td>\n",
       "      <td>16</td>\n",
       "      <td>0</td>\n",
       "    </tr>\n",
       "    <tr>\n",
       "      <th>4</th>\n",
       "      <td>p013780</td>\n",
       "      <td>a63b5547a7239eae4c1872670848e61a</td>\n",
       "      <td>Mr.</td>\n",
       "      <td>CA</td>\n",
       "      <td>2016-08-06 09:09:11</td>\n",
       "      <td>Grades 6-8</td>\n",
       "      <td>Health &amp; Sports</td>\n",
       "      <td>Health &amp; Wellness</td>\n",
       "      <td>We need clean water for our culinary arts class!</td>\n",
       "      <td>My students are athletes and students who are ...</td>\n",
       "      <td>For some reason in our kitchen the water comes...</td>\n",
       "      <td>NaN</td>\n",
       "      <td>NaN</td>\n",
       "      <td>My students need a water filtration system for...</td>\n",
       "      <td>42</td>\n",
       "      <td>1</td>\n",
       "    </tr>\n",
       "  </tbody>\n",
       "</table>\n",
       "</div>"
      ],
      "text/plain": [
       "        id                        teacher_id teacher_prefix school_state  \\\n",
       "0  p036502  484aaf11257089a66cfedc9461c6bd0a            Ms.           NV   \n",
       "1  p039565  df72a3ba8089423fa8a94be88060f6ed           Mrs.           GA   \n",
       "2  p233823  a9b876a9252e08a55e3d894150f75ba3            Ms.           UT   \n",
       "3  p185307  525fdbb6ec7f538a48beebaa0a51b24f            Mr.           NC   \n",
       "4  p013780  a63b5547a7239eae4c1872670848e61a            Mr.           CA   \n",
       "\n",
       "  project_submitted_datetime project_grade_category  \\\n",
       "0        2016-11-18 14:45:59          Grades PreK-2   \n",
       "1        2017-04-26 15:57:28             Grades 3-5   \n",
       "2        2017-01-01 22:57:44             Grades 3-5   \n",
       "3        2016-08-12 15:42:11             Grades 3-5   \n",
       "4        2016-08-06 09:09:11             Grades 6-8   \n",
       "\n",
       "            project_subject_categories  \\\n",
       "0                  Literacy & Language   \n",
       "1    Music & The Arts, Health & Sports   \n",
       "2  Math & Science, Literacy & Language   \n",
       "3                      Health & Sports   \n",
       "4                      Health & Sports   \n",
       "\n",
       "            project_subject_subcategories  \\\n",
       "0                                Literacy   \n",
       "1            Performing Arts, Team Sports   \n",
       "2  Applied Sciences, Literature & Writing   \n",
       "3                       Health & Wellness   \n",
       "4                       Health & Wellness   \n",
       "\n",
       "                                       project_title  \\\n",
       "0                           Super Sight Word Centers   \n",
       "1                             Keep Calm and Dance On   \n",
       "2                              Lets 3Doodle to Learn   \n",
       "3  \\\"Kid Inspired\\\" Equipment to Increase Activit...   \n",
       "4   We need clean water for our culinary arts class!   \n",
       "\n",
       "                                     project_essay_1  \\\n",
       "0  Most of my kindergarten students come from low...   \n",
       "1  Our elementary school is a culturally rich sch...   \n",
       "2  Hello;\\r\\nMy name is Mrs. Brotherton. I teach ...   \n",
       "3  My students are the greatest students but are ...   \n",
       "4  My students are athletes and students who are ...   \n",
       "\n",
       "                                     project_essay_2 project_essay_3  \\\n",
       "0  I currently have a differentiated sight word c...             NaN   \n",
       "1  We strive to provide our diverse population of...             NaN   \n",
       "2  We are looking to add some 3Doodler to our cla...             NaN   \n",
       "3  The student's project which is totally \\\"kid-i...             NaN   \n",
       "4  For some reason in our kitchen the water comes...             NaN   \n",
       "\n",
       "  project_essay_4                           project_resource_summary  \\\n",
       "0             NaN  My students need 6 Ipod Nano's to create and d...   \n",
       "1             NaN  My students need matching shirts to wear for d...   \n",
       "2             NaN  My students need the 3doodler. We are an SEM s...   \n",
       "3             NaN  My students need balls and other activity equi...   \n",
       "4             NaN  My students need a water filtration system for...   \n",
       "\n",
       "   teacher_number_of_previously_posted_projects  project_is_approved  \n",
       "0                                            26                    1  \n",
       "1                                             1                    0  \n",
       "2                                             5                    1  \n",
       "3                                            16                    0  \n",
       "4                                            42                    1  "
      ]
     },
     "execution_count": 3,
     "metadata": {},
     "output_type": "execute_result"
    }
   ],
   "source": [
    "train.head()"
   ]
  },
  {
   "cell_type": "markdown",
   "metadata": {},
   "source": [
    "## Data preprocessing:"
   ]
  },
  {
   "cell_type": "code",
   "execution_count": 4,
   "metadata": {
    "collapsed": false
   },
   "outputs": [
    {
     "name": "stdout",
     "output_type": "stream",
     "text": [
      "((182080, 18), (78035, 17))\n"
     ]
    }
   ],
   "source": [
    "resources['resources_total'] = resources['quantity'] * resources['price']\n",
    "\n",
    "#dfr = resources.groupby(['id'], as_index=False)[['resources_total']].sum()\n",
    "#train = pd.merge(train, dfr, how='left', on='id').fillna(' ')\n",
    "#test = pd.merge(test, dfr, how='left', on='id').fillna(' ')\n",
    "\n",
    "dfr = resources.groupby(['id'], as_index=False)[['resources_total']].mean()\n",
    "dfr = dfr.rename(columns={'resources_total':'resources_total_mean'})\n",
    "train = pd.merge(train, dfr, how='left', on='id').fillna(' ')\n",
    "test = pd.merge(test, dfr, how='left', on='id').fillna(' ')\n",
    "\n",
    "dfr = resources.groupby(['id'], as_index=False)[['quantity']].count()\n",
    "dfr = dfr.rename(columns={'quantity':'resources_quantity_count'})\n",
    "train = pd.merge(train, dfr, how='left', on='id').fillna(' ')\n",
    "test = pd.merge(test, dfr, how='left', on='id').fillna(' ')\n",
    "\n",
    "#dfr = resources.groupby(['id'], as_index=False)[['quantity']].sum()\n",
    "#dfr = dfr.rename(columns={'quantity':'resources_quantity_sum'})\n",
    "#train = pd.merge(train, dfr, how='left', on='id').fillna(' ')\n",
    "#test = pd.merge(test, dfr, how='left', on='id').fillna(' ')\n",
    "\n",
    "print(train.shape, test.shape)"
   ]
  },
  {
   "cell_type": "code",
   "execution_count": 5,
   "metadata": {
    "collapsed": false
   },
   "outputs": [
    {
     "name": "stdout",
     "output_type": "stream",
     "text": [
      "teacher_id\n",
      "teacher_prefix\n",
      "school_state\n",
      "project_grade_category\n",
      "project_subject_categories\n",
      "project_subject_subcategories\n"
     ]
    }
   ],
   "source": [
    "for c in ['teacher_id','teacher_prefix','school_state', 'project_grade_category', 'project_subject_categories', 'project_subject_subcategories']:\n",
    "    lbl = preprocessing.LabelEncoder()\n",
    "    lbl.fit(list(train[c].unique())+list(test[c].unique()))\n",
    "    train[c] = lbl.fit_transform(train[c].astype(str))\n",
    "    test[c] = lbl.fit_transform(test[c].astype(str))\n",
    "    print(c)"
   ]
  },
  {
   "cell_type": "code",
   "execution_count": 6,
   "metadata": {
    "collapsed": false
   },
   "outputs": [],
   "source": [
    "train['project_submitted_datetime'] = pd.to_datetime(train['project_submitted_datetime']).values.astype(np.int64)\n",
    "test['project_submitted_datetime'] = pd.to_datetime(test['project_submitted_datetime']).values.astype(np.int64)"
   ]
  },
  {
   "cell_type": "code",
   "execution_count": 7,
   "metadata": {
    "collapsed": false
   },
   "outputs": [
    {
     "name": "stdout",
     "output_type": "stream",
     "text": [
      "((182080, 18), (78035, 17))\n"
     ]
    }
   ],
   "source": [
    "max_features_ = 200\n",
    "print(train.shape, test.shape)"
   ]
  },
  {
   "cell_type": "markdown",
   "metadata": {},
   "source": [
    "### Text processing using simple NLP techniques"
   ]
  },
  {
   "cell_type": "code",
   "execution_count": 8,
   "metadata": {
    "collapsed": false
   },
   "outputs": [
    {
     "name": "stdout",
     "output_type": "stream",
     "text": [
      "project_title\n",
      "project_resource_summary\n",
      "project_essay_1\n",
      "project_essay_2\n",
      "((182080, 826), (78035, 825))\n"
     ]
    }
   ],
   "source": [
    "for c in ['project_title', 'project_resource_summary', 'project_essay_1', 'project_essay_2']:\n",
    "    tfidf = feature_extraction.text.TfidfVectorizer(ngram_range=(1, 2), stop_words='english', min_df=3, max_features=max_features_)\n",
    "    tfidf.fit(train[c])\n",
    "\n",
    "    train[c+'_len'] = train[c].apply(lambda x: len(str(x)))\n",
    "    train[c+'_wc'] = train[c].apply(lambda x: len(str(x).split(' ')))\n",
    "    features = pd.DataFrame(tfidf.transform(train[c]).toarray())\n",
    "    features.columns = [c + str(i) for i in range(max_features_)]\n",
    "    train = pd.concat((train, pd.DataFrame(features)), axis=1, ignore_index=False).reset_index(drop=True)\n",
    "    \n",
    "    test[c+'_len'] = test[c].apply(lambda x: len(str(x)))\n",
    "    test[c+'_wc'] = test[c].apply(lambda x: len(str(x).split(' ')))\n",
    "    features = pd.DataFrame(tfidf.transform(test[c]).toarray())\n",
    "    features.columns = [c + str(i) for i in range(max_features_)]\n",
    "    test = pd.concat((test, pd.DataFrame(features)), axis=1, ignore_index=False).reset_index(drop=True)\n",
    "    \n",
    "    print(c)\n",
    "\n",
    "print(train.shape, test.shape)"
   ]
  },
  {
   "cell_type": "code",
   "execution_count": 9,
   "metadata": {
    "collapsed": true
   },
   "outputs": [],
   "source": [
    "col = ['id', 'project_is_approved', 'project_resource_summary', 'project_title', 'project_essay_1', 'project_essay_2', 'project_essay_3', 'project_essay_4', 'project_submitted_datetime', 'project_subject_categories', 'project_subject_subcategories']\n",
    "col = [c for c in train.columns if c not in col]"
   ]
  },
  {
   "cell_type": "markdown",
   "metadata": {},
   "source": [
    "## Build and train the model"
   ]
  },
  {
   "cell_type": "code",
   "execution_count": 10,
   "metadata": {
    "collapsed": false
   },
   "outputs": [
    {
     "name": "stdout",
     "output_type": "stream",
     "text": [
      "[0]\ttrain-auc:0.756786\tvalid-auc:0.700237\n",
      "Multiple eval metrics have been passed: 'valid-auc' will be used for early stopping.\n",
      "\n",
      "Will train until valid-auc hasn't improved in 20 rounds.\n",
      "[10]\ttrain-auc:0.855392\tvalid-auc:0.719586\n",
      "[20]\ttrain-auc:0.898261\tvalid-auc:0.727314\n",
      "[30]\ttrain-auc:0.926034\tvalid-auc:0.733351\n",
      "[40]\ttrain-auc:0.944316\tvalid-auc:0.737585\n",
      "[50]\ttrain-auc:0.955918\tvalid-auc:0.740061\n",
      "[60]\ttrain-auc:0.964873\tvalid-auc:0.741584\n",
      "[70]\ttrain-auc:0.970645\tvalid-auc:0.742705\n",
      "[80]\ttrain-auc:0.975456\tvalid-auc:0.743318\n",
      "[90]\ttrain-auc:0.978858\tvalid-auc:0.743531\n",
      "[100]\ttrain-auc:0.98186\tvalid-auc:0.743654\n",
      "[110]\ttrain-auc:0.984527\tvalid-auc:0.743676\n",
      "[120]\ttrain-auc:0.986505\tvalid-auc:0.743767\n",
      "[130]\ttrain-auc:0.988563\tvalid-auc:0.743992\n",
      "[140]\ttrain-auc:0.98997\tvalid-auc:0.744169\n",
      "[150]\ttrain-auc:0.991269\tvalid-auc:0.74441\n",
      "[160]\ttrain-auc:0.992281\tvalid-auc:0.744368\n",
      "[170]\ttrain-auc:0.993017\tvalid-auc:0.744075\n",
      "Stopping. Best iteration:\n",
      "[155]\ttrain-auc:0.991833\tvalid-auc:0.744507\n",
      "\n"
     ]
    }
   ],
   "source": [
    "x1, x2, y1, y2 = model_selection.train_test_split(train[col],train['project_is_approved'], test_size=0.3, random_state=18)\n",
    "\n",
    "params = {'eta': 0.05, 'max_depth': 6, 'objective': 'binary:logistic', 'eval_metric': 'auc', 'seed': 18, 'silent': True}\n",
    "watchlist = [(xgb.DMatrix(x1, y1), 'train'), (xgb.DMatrix(x2, y2), 'valid')]\n",
    "model = xgb.train(params, xgb.DMatrix(x1, y1), 450,  watchlist, verbose_eval=10, early_stopping_rounds=20)"
   ]
  },
  {
   "cell_type": "markdown",
   "metadata": {},
   "source": [
    "## Predicting and validating the outcome using trained model"
   ]
  },
  {
   "cell_type": "code",
   "execution_count": 11,
   "metadata": {
    "collapsed": false
   },
   "outputs": [],
   "source": [
    "test['project_is_approved'] = model.predict(xgb.DMatrix(test[col]), ntree_limit=model.best_ntree_limit)\n",
    "test['project_is_approved'] = test['project_is_approved'].clip(0+1e12, 1-1e12)"
   ]
  },
  {
   "cell_type": "code",
   "execution_count": 12,
   "metadata": {
    "collapsed": true
   },
   "outputs": [],
   "source": [
    "test[['id','project_is_approved']].to_csv('try_submission.csv', index=False)"
   ]
  },
  {
   "cell_type": "code",
   "execution_count": null,
   "metadata": {
    "collapsed": true
   },
   "outputs": [],
   "source": []
  }
 ],
 "metadata": {
  "kernelspec": {
   "display_name": "Python 2",
   "language": "python",
   "name": "python2"
  },
  "language_info": {
   "codemirror_mode": {
    "name": "ipython",
    "version": 2
   },
   "file_extension": ".py",
   "mimetype": "text/x-python",
   "name": "python",
   "nbconvert_exporter": "python",
   "pygments_lexer": "ipython2",
   "version": "2.7.13"
  }
 },
 "nbformat": 4,
 "nbformat_minor": 2
}
